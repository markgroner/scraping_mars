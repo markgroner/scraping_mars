{
 "cells": [
  {
   "cell_type": "code",
   "execution_count": null,
   "metadata": {
    "collapsed": true
   },
   "outputs": [],
   "source": [
    "import pandas as pd\n",
    "import time\n",
    "from bs4 import BeautifulSoup\n",
    "from splinter import Browser\n",
    "executable_path = {'executable_path': 'C:/Users/markg/chromedriver/bin/chromedriver'}\n",
    "browser = Browser('chrome', **executable_path, headless=False)"
   ]
  },
  {
   "cell_type": "code",
   "execution_count": null,
   "metadata": {
    "collapsed": true
   },
   "outputs": [],
   "source": [
    "def scrape_html_soup(seed_url, soup=True, click_css=''):\n",
    "    # Visit the seed url\n",
    "    browser.visit(seed_url)\n",
    "    time.sleep(1)\n",
    "    if click_css != '':\n",
    "        browser.find_by_css(click_css).first.click()\n",
    "        time.sleep(1)\n",
    "    html = browser.html\n",
    "    if soup: ## Scrape page into soup\n",
    "        return BeautifulSoup(html, 'html.parser')\n",
    "    else:\n",
    "        return html"
   ]
  },
  {
   "cell_type": "code",
   "execution_count": null,
   "metadata": {},
   "outputs": [],
   "source": [
    "def scrape_mars_news():\n",
    "    seed_url = 'https://mars.nasa.gov/news/'\n",
    "    soup = scrape_html_soup(seed_url)\n",
    "    article_title = soup.find('div', class_='content_title').text\n",
    "    article_paragraph = soup.find('div', class_='article_teaser_body').text\n",
    "    return {'articleTitle': article_title, 'articleParagraph': article_paragraph}\n",
    "scraped_data = scrape_mars_news()\n",
    "print(scraped_data['articleTitle'])\n",
    "print(scraped_data['articleParagraph'])"
   ]
  },
  {
   "cell_type": "code",
   "execution_count": null,
   "metadata": {},
   "outputs": [],
   "source": [
    "def scrape_featured_mars_image():\n",
    "    seed_url = 'https://www.jpl.nasa.gov/spaceimages/?search=&category=Mars/'\n",
    "    soup = scrape_html_soup(seed_url, click_css='div.carousel_container div.carousel_items a.button')\n",
    "    landing_page_url = seed_url[:seed_url.find('/',8)]\n",
    "    featured_image_url = soup.find('img', class_='fancybox-image')['src']\n",
    "    featured_image_url = f'{landing_page_url}{featured_image_url}'\n",
    "    featured_image_url = featured_image_url.replace('medium', 'large').replace('ip', 'hires')\n",
    "    return {'featuredImageUrl': featured_image_url}\n",
    "scraped_data = scrape_featured_mars_image()\n",
    "scraped_data['featuredImageUrl']"
   ]
  },
  {
   "cell_type": "code",
   "execution_count": null,
   "metadata": {},
   "outputs": [],
   "source": [
    "def scrape_mars_weather_tweet():\n",
    "    seed_url = 'https://twitter.com/marswxreport?lang=en'\n",
    "    soup = scrape_html_soup(seed_url)\n",
    "    mars_weather_tweet = soup.find('div', attrs={'class': 'tweet', 'data-name': 'Mars Weather'})\\\n",
    "        .find('p', attrs={'class': 'tweet-text'}).text\n",
    "    return {'marsWeatherTweet': mars_weather_tweet}\n",
    "scraped_data = scrape_mars_weather_tweet()\n",
    "scraped_data['marsWeatherTweet']"
   ]
  },
  {
   "cell_type": "code",
   "execution_count": null,
   "metadata": {},
   "outputs": [],
   "source": [
    "def scrape_mars_facts_df():\n",
    "    seed_url = 'http://space-facts.com/mars/'\n",
    "    html = scrape_html_soup(seed_url, soup=False)\n",
    "    mars_facts_df = pd.read_html(html, attrs = {'id': 'tablepress-mars'})[0]\n",
    "    mars_facts_df.columns = ['Measurement', 'Value']\n",
    "    mars_facts_df['Measurement'] = [measurement[:-1] for measurement in mars_facts_df['Measurement']]\n",
    "    mars_facts_html = mars_facts_df.to_html()\n",
    "    return {'marsFactsHtml': mars_facts_html}\n",
    "scraped_data = scrape_mars_facts_df()\n",
    "scraped_data['marsFactsHtml']"
   ]
  },
  {
   "cell_type": "code",
   "execution_count": null,
   "metadata": {
    "collapsed": true
   },
   "outputs": [],
   "source": []
  }
 ],
 "metadata": {
  "kernelspec": {
   "display_name": "Python 3",
   "language": "python",
   "name": "python3"
  },
  "language_info": {
   "codemirror_mode": {
    "name": "ipython",
    "version": 3
   },
   "file_extension": ".py",
   "mimetype": "text/x-python",
   "name": "python",
   "nbconvert_exporter": "python",
   "pygments_lexer": "ipython3",
   "version": "3.6.2"
  }
 },
 "nbformat": 4,
 "nbformat_minor": 2
}
